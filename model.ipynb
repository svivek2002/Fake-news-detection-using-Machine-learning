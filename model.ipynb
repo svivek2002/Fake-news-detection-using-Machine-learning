{
 "cells": [
  {
   "cell_type": "markdown",
   "id": "14eb9e44-0093-4ed8-b1b2-34e07977a65d",
   "metadata": {
    "tags": []
   },
   "source": [
    "# Fake News Detection Using Machine Learning\n"
   ]
  },
  {
   "cell_type": "markdown",
   "id": "65286476-5f29-4acc-a3c6-df41d0c0f104",
   "metadata": {},
   "source": [
    "**About the Dataset:**\n",
    "\n",
    "**train.csv:** A full training dataset with the following attributes:\n",
    "\n",
    "**1.** id: unique id for a news article  \n",
    "**2.** title: the title of a news article  \n",
    "**3.** author: author of the news article  \n",
    "**4.** text: the text of the article; could be incomplete  \n",
    "**5.** label: a label that marks whether the news article is real or fake:\n",
    "\n",
    "**1:** Fake news  \n",
    "**0:** real News\n"
   ]
  },
  {
   "cell_type": "markdown",
   "id": "e71b1681-f0ec-4dea-8dbd-ad5e3c44789d",
   "metadata": {},
   "source": [
    "## Importing Libraries\n"
   ]
  },
  {
   "cell_type": "code",
   "execution_count": 1,
   "id": "c9a3855d-25d3-4790-862a-158210633943",
   "metadata": {
    "tags": []
   },
   "outputs": [],
   "source": [
    "import numpy as np\n",
    "import pandas as pd\n",
    "import re\n",
    "from nltk.corpus import stopwords\n",
    "from nltk.stem.porter import PorterStemmer\n",
    "from sklearn.feature_extraction.text import TfidfVectorizer\n",
    "from sklearn.model_selection import train_test_split\n",
    "from sklearn.linear_model import LogisticRegression\n",
    "from sklearn.metrics import classification_report, accuracy_score\n",
    "from sklearn.metrics import confusion_matrix, ConfusionMatrixDisplay\n",
    "import matplotlib.pyplot as plt"
   ]
  },
  {
   "cell_type": "markdown",
   "id": "85b4430b",
   "metadata": {},
   "source": [
    "The initial phase of the project involves data pre- processing, where we delve into the implementation and usage of various Python-built modules. This approach helps us comprehend the significance of employing pre-existing modules, offering a more efficient and understandable code representation than developing functions from scratch. Noteworthy libraries utilized in this process include numpy, re, pandas, nltk, sklearn, matplotlib and more.\n",
    "\n",
    "Data preprocessing includes removing stopwords that have no significance in our purpose, then creating datafame of our dataset, counting and replacing the null values in the dataset with empty string, performing stemming to get the root words, separating the data and label, vectorizing the textual data into numerical data, splitting the dataset into training and testing dataset to train the model.\n",
    "\n",
    "For model training, initially we have used logistic regression since it is best suited for binary class classification problems. After training we have calculated accuracy on training as well as testing dataset and then created classification report and confusion matrix using sklearn library.\n"
   ]
  },
  {
   "cell_type": "code",
   "execution_count": 2,
   "id": "e5a8169b-e218-46bb-a73e-3f4a842655c9",
   "metadata": {
    "tags": []
   },
   "outputs": [
    {
     "name": "stderr",
     "output_type": "stream",
     "text": [
      "[nltk_data] Downloading package stopwords to C:\\Users\\vivek\n",
      "[nltk_data]     singh\\AppData\\Roaming\\nltk_data...\n",
      "[nltk_data]   Package stopwords is already up-to-date!\n"
     ]
    },
    {
     "data": {
      "text/plain": [
       "True"
      ]
     },
     "execution_count": 2,
     "metadata": {},
     "output_type": "execute_result"
    }
   ],
   "source": [
    "import nltk\n",
    "nltk.download('stopwords')"
   ]
  },
  {
   "cell_type": "code",
   "execution_count": 3,
   "id": "8fdba5d1-026f-457d-bb71-42f793f04447",
   "metadata": {
    "tags": []
   },
   "outputs": [
    {
     "name": "stdout",
     "output_type": "stream",
     "text": [
      "['i', 'me', 'my', 'myself', 'we', 'our', 'ours', 'ourselves', 'you', \"you're\", \"you've\", \"you'll\", \"you'd\", 'your', 'yours', 'yourself', 'yourselves', 'he', 'him', 'his', 'himself', 'she', \"she's\", 'her', 'hers', 'herself', 'it', \"it's\", 'its', 'itself', 'they', 'them', 'their', 'theirs', 'themselves', 'what', 'which', 'who', 'whom', 'this', 'that', \"that'll\", 'these', 'those', 'am', 'is', 'are', 'was', 'were', 'be', 'been', 'being', 'have', 'has', 'had', 'having', 'do', 'does', 'did', 'doing', 'a', 'an', 'the', 'and', 'but', 'if', 'or', 'because', 'as', 'until', 'while', 'of', 'at', 'by', 'for', 'with', 'about', 'against', 'between', 'into', 'through', 'during', 'before', 'after', 'above', 'below', 'to', 'from', 'up', 'down', 'in', 'out', 'on', 'off', 'over', 'under', 'again', 'further', 'then', 'once', 'here', 'there', 'when', 'where', 'why', 'how', 'all', 'any', 'both', 'each', 'few', 'more', 'most', 'other', 'some', 'such', 'no', 'nor', 'not', 'only', 'own', 'same', 'so', 'than', 'too', 'very', 's', 't', 'can', 'will', 'just', 'don', \"don't\", 'should', \"should've\", 'now', 'd', 'll', 'm', 'o', 're', 've', 'y', 'ain', 'aren', \"aren't\", 'couldn', \"couldn't\", 'didn', \"didn't\", 'doesn', \"doesn't\", 'hadn', \"hadn't\", 'hasn', \"hasn't\", 'haven', \"haven't\", 'isn', \"isn't\", 'ma', 'mightn', \"mightn't\", 'mustn', \"mustn't\", 'needn', \"needn't\", 'shan', \"shan't\", 'shouldn', \"shouldn't\", 'wasn', \"wasn't\", 'weren', \"weren't\", 'won', \"won't\", 'wouldn', \"wouldn't\"]\n"
     ]
    }
   ],
   "source": [
    "## printing the stopwords in English\n",
    "print(stopwords.words('english'))"
   ]
  },
  {
   "cell_type": "markdown",
   "id": "b58387c9-96be-49d9-a2eb-62a12275ad58",
   "metadata": {},
   "source": [
    "## loading the dataset to a pandas DataFrame\n"
   ]
  },
  {
   "cell_type": "code",
   "execution_count": 4,
   "id": "bba40577-8442-4606-b9bc-fb7091449b79",
   "metadata": {
    "tags": []
   },
   "outputs": [],
   "source": [
    "news_dataset = pd.read_csv('train.csv')"
   ]
  },
  {
   "cell_type": "code",
   "execution_count": 5,
   "id": "1f26dfdf-7c10-4dd3-b921-6c1a9b006af3",
   "metadata": {
    "tags": []
   },
   "outputs": [
    {
     "data": {
      "text/plain": [
       "(20800, 5)"
      ]
     },
     "execution_count": 5,
     "metadata": {},
     "output_type": "execute_result"
    }
   ],
   "source": [
    "news_dataset.shape\n"
   ]
  },
  {
   "cell_type": "code",
   "execution_count": 6,
   "id": "2ce7937b-bde9-4486-b22d-0574b0490a9e",
   "metadata": {
    "tags": []
   },
   "outputs": [
    {
     "data": {
      "text/html": [
       "<div>\n",
       "<style scoped>\n",
       "    .dataframe tbody tr th:only-of-type {\n",
       "        vertical-align: middle;\n",
       "    }\n",
       "\n",
       "    .dataframe tbody tr th {\n",
       "        vertical-align: top;\n",
       "    }\n",
       "\n",
       "    .dataframe thead th {\n",
       "        text-align: right;\n",
       "    }\n",
       "</style>\n",
       "<table border=\"1\" class=\"dataframe\">\n",
       "  <thead>\n",
       "    <tr style=\"text-align: right;\">\n",
       "      <th></th>\n",
       "      <th>id</th>\n",
       "      <th>title</th>\n",
       "      <th>author</th>\n",
       "      <th>text</th>\n",
       "      <th>label</th>\n",
       "    </tr>\n",
       "  </thead>\n",
       "  <tbody>\n",
       "    <tr>\n",
       "      <th>0</th>\n",
       "      <td>0</td>\n",
       "      <td>House Dem Aide: We Didn’t Even See Comey’s Let...</td>\n",
       "      <td>Darrell Lucus</td>\n",
       "      <td>House Dem Aide: We Didn’t Even See Comey’s Let...</td>\n",
       "      <td>1</td>\n",
       "    </tr>\n",
       "    <tr>\n",
       "      <th>1</th>\n",
       "      <td>1</td>\n",
       "      <td>FLYNN: Hillary Clinton, Big Woman on Campus - ...</td>\n",
       "      <td>Daniel J. Flynn</td>\n",
       "      <td>Ever get the feeling your life circles the rou...</td>\n",
       "      <td>0</td>\n",
       "    </tr>\n",
       "    <tr>\n",
       "      <th>2</th>\n",
       "      <td>2</td>\n",
       "      <td>Why the Truth Might Get You Fired</td>\n",
       "      <td>Consortiumnews.com</td>\n",
       "      <td>Why the Truth Might Get You Fired October 29, ...</td>\n",
       "      <td>1</td>\n",
       "    </tr>\n",
       "    <tr>\n",
       "      <th>3</th>\n",
       "      <td>3</td>\n",
       "      <td>15 Civilians Killed In Single US Airstrike Hav...</td>\n",
       "      <td>Jessica Purkiss</td>\n",
       "      <td>Videos 15 Civilians Killed In Single US Airstr...</td>\n",
       "      <td>1</td>\n",
       "    </tr>\n",
       "    <tr>\n",
       "      <th>4</th>\n",
       "      <td>4</td>\n",
       "      <td>Iranian woman jailed for fictional unpublished...</td>\n",
       "      <td>Howard Portnoy</td>\n",
       "      <td>Print \\nAn Iranian woman has been sentenced to...</td>\n",
       "      <td>1</td>\n",
       "    </tr>\n",
       "  </tbody>\n",
       "</table>\n",
       "</div>"
      ],
      "text/plain": [
       "   id                                              title              author  \\\n",
       "0   0  House Dem Aide: We Didn’t Even See Comey’s Let...       Darrell Lucus   \n",
       "1   1  FLYNN: Hillary Clinton, Big Woman on Campus - ...     Daniel J. Flynn   \n",
       "2   2                  Why the Truth Might Get You Fired  Consortiumnews.com   \n",
       "3   3  15 Civilians Killed In Single US Airstrike Hav...     Jessica Purkiss   \n",
       "4   4  Iranian woman jailed for fictional unpublished...      Howard Portnoy   \n",
       "\n",
       "                                                text  label  \n",
       "0  House Dem Aide: We Didn’t Even See Comey’s Let...      1  \n",
       "1  Ever get the feeling your life circles the rou...      0  \n",
       "2  Why the Truth Might Get You Fired October 29, ...      1  \n",
       "3  Videos 15 Civilians Killed In Single US Airstr...      1  \n",
       "4  Print \\nAn Iranian woman has been sentenced to...      1  "
      ]
     },
     "execution_count": 6,
     "metadata": {},
     "output_type": "execute_result"
    }
   ],
   "source": [
    "news_dataset.head()"
   ]
  },
  {
   "cell_type": "markdown",
   "id": "49caa92f-7f55-42ca-8f5c-9edeeed44ad7",
   "metadata": {},
   "source": [
    "## Data Pre-processing\n"
   ]
  },
  {
   "cell_type": "markdown",
   "id": "68b75f71-5bfa-4875-a84e-d781ee4a4673",
   "metadata": {},
   "source": [
    "**_Counting the number of missing values in the dataset_**\n"
   ]
  },
  {
   "cell_type": "code",
   "execution_count": 7,
   "id": "a96f9f65-f62a-44ae-8683-0a63e3b1051c",
   "metadata": {
    "tags": []
   },
   "outputs": [
    {
     "data": {
      "text/plain": [
       "id           0\n",
       "title      558\n",
       "author    1957\n",
       "text        39\n",
       "label        0\n",
       "dtype: int64"
      ]
     },
     "execution_count": 7,
     "metadata": {},
     "output_type": "execute_result"
    }
   ],
   "source": [
    "news_dataset.isnull().sum()"
   ]
  },
  {
   "cell_type": "markdown",
   "id": "d964ff6b-b007-4b4c-9df4-bd58a31467de",
   "metadata": {
    "tags": []
   },
   "source": [
    "**_replacing the null values with empty string_**\n"
   ]
  },
  {
   "cell_type": "code",
   "execution_count": 8,
   "id": "d7840c2b-302a-4747-98b1-ad0bcd4c4223",
   "metadata": {
    "tags": []
   },
   "outputs": [],
   "source": [
    "news_dataset = news_dataset.fillna('')"
   ]
  },
  {
   "cell_type": "markdown",
   "id": "6bf6c626-3db6-4a6e-99ec-7bf997e2d7a3",
   "metadata": {},
   "source": [
    "**_merging the author name and news title_**\n"
   ]
  },
  {
   "cell_type": "code",
   "execution_count": 9,
   "id": "90b7c4fc-6087-453c-9118-55c3ef48c11e",
   "metadata": {
    "tags": []
   },
   "outputs": [],
   "source": [
    "news_dataset['content'] = news_dataset['author']+' '+ news_dataset['title']"
   ]
  },
  {
   "cell_type": "code",
   "execution_count": 10,
   "id": "11bebbae-2dd0-47bd-8476-d34fdf33354e",
   "metadata": {
    "tags": []
   },
   "outputs": [
    {
     "name": "stdout",
     "output_type": "stream",
     "text": [
      "0        Darrell Lucus House Dem Aide: We Didn’t Even S...\n",
      "1        Daniel J. Flynn FLYNN: Hillary Clinton, Big Wo...\n",
      "2        Consortiumnews.com Why the Truth Might Get You...\n",
      "3        Jessica Purkiss 15 Civilians Killed In Single ...\n",
      "4        Howard Portnoy Iranian woman jailed for fictio...\n",
      "                               ...                        \n",
      "20795    Jerome Hudson Rapper T.I.: Trump a ’Poster Chi...\n",
      "20796    Benjamin Hoffman N.F.L. Playoffs: Schedule, Ma...\n",
      "20797    Michael J. de la Merced and Rachel Abrams Macy...\n",
      "20798    Alex Ansary NATO, Russia To Hold Parallel Exer...\n",
      "20799              David Swanson What Keeps the F-35 Alive\n",
      "Name: content, Length: 20800, dtype: object\n"
     ]
    }
   ],
   "source": [
    "print(news_dataset['content'])"
   ]
  },
  {
   "cell_type": "markdown",
   "id": "dc274a64-a6ca-4834-b32f-f54b5f7b0bba",
   "metadata": {},
   "source": [
    "**_separating the data & label_**\n"
   ]
  },
  {
   "cell_type": "code",
   "execution_count": 11,
   "id": "54cefc39-07bf-4259-a8fb-4b64223b3a89",
   "metadata": {
    "tags": []
   },
   "outputs": [
    {
     "name": "stdout",
     "output_type": "stream",
     "text": [
      "          id                                              title  \\\n",
      "0          0  House Dem Aide: We Didn’t Even See Comey’s Let...   \n",
      "1          1  FLYNN: Hillary Clinton, Big Woman on Campus - ...   \n",
      "2          2                  Why the Truth Might Get You Fired   \n",
      "3          3  15 Civilians Killed In Single US Airstrike Hav...   \n",
      "4          4  Iranian woman jailed for fictional unpublished...   \n",
      "...      ...                                                ...   \n",
      "20795  20795  Rapper T.I.: Trump a ’Poster Child For White S...   \n",
      "20796  20796  N.F.L. Playoffs: Schedule, Matchups and Odds -...   \n",
      "20797  20797  Macy’s Is Said to Receive Takeover Approach by...   \n",
      "20798  20798  NATO, Russia To Hold Parallel Exercises In Bal...   \n",
      "20799  20799                          What Keeps the F-35 Alive   \n",
      "\n",
      "                                          author  \\\n",
      "0                                  Darrell Lucus   \n",
      "1                                Daniel J. Flynn   \n",
      "2                             Consortiumnews.com   \n",
      "3                                Jessica Purkiss   \n",
      "4                                 Howard Portnoy   \n",
      "...                                          ...   \n",
      "20795                              Jerome Hudson   \n",
      "20796                           Benjamin Hoffman   \n",
      "20797  Michael J. de la Merced and Rachel Abrams   \n",
      "20798                                Alex Ansary   \n",
      "20799                              David Swanson   \n",
      "\n",
      "                                                    text  \\\n",
      "0      House Dem Aide: We Didn’t Even See Comey’s Let...   \n",
      "1      Ever get the feeling your life circles the rou...   \n",
      "2      Why the Truth Might Get You Fired October 29, ...   \n",
      "3      Videos 15 Civilians Killed In Single US Airstr...   \n",
      "4      Print \\nAn Iranian woman has been sentenced to...   \n",
      "...                                                  ...   \n",
      "20795  Rapper T. I. unloaded on black celebrities who...   \n",
      "20796  When the Green Bay Packers lost to the Washing...   \n",
      "20797  The Macy’s of today grew from the union of sev...   \n",
      "20798  NATO, Russia To Hold Parallel Exercises In Bal...   \n",
      "20799    David Swanson is an author, activist, journa...   \n",
      "\n",
      "                                                 content  \n",
      "0      Darrell Lucus House Dem Aide: We Didn’t Even S...  \n",
      "1      Daniel J. Flynn FLYNN: Hillary Clinton, Big Wo...  \n",
      "2      Consortiumnews.com Why the Truth Might Get You...  \n",
      "3      Jessica Purkiss 15 Civilians Killed In Single ...  \n",
      "4      Howard Portnoy Iranian woman jailed for fictio...  \n",
      "...                                                  ...  \n",
      "20795  Jerome Hudson Rapper T.I.: Trump a ’Poster Chi...  \n",
      "20796  Benjamin Hoffman N.F.L. Playoffs: Schedule, Ma...  \n",
      "20797  Michael J. de la Merced and Rachel Abrams Macy...  \n",
      "20798  Alex Ansary NATO, Russia To Hold Parallel Exer...  \n",
      "20799            David Swanson What Keeps the F-35 Alive  \n",
      "\n",
      "[20800 rows x 5 columns]\n",
      "0        1\n",
      "1        0\n",
      "2        1\n",
      "3        1\n",
      "4        1\n",
      "        ..\n",
      "20795    0\n",
      "20796    0\n",
      "20797    0\n",
      "20798    1\n",
      "20799    1\n",
      "Name: label, Length: 20800, dtype: int64\n"
     ]
    }
   ],
   "source": [
    "X = news_dataset.drop(columns='label', axis=1)\n",
    "Y = news_dataset['label']\n",
    "print(X)\n",
    "print(Y)"
   ]
  },
  {
   "cell_type": "markdown",
   "id": "d9c75848-6cc6-46b3-9c1f-9fdf0d1420fc",
   "metadata": {},
   "source": [
    "### Stemming:\n",
    "\n",
    "_Stemming is the process of reducing a word to its Root word_\n",
    "\n",
    "**example:** actor, actress, acting --> act\n"
   ]
  },
  {
   "cell_type": "code",
   "execution_count": 12,
   "id": "5119ae10-f126-46bf-b479-c820ad2e0b92",
   "metadata": {
    "tags": []
   },
   "outputs": [],
   "source": [
    "port_stem = PorterStemmer()"
   ]
  },
  {
   "cell_type": "code",
   "execution_count": 13,
   "id": "cad60123-1e5e-46be-bc0c-9231badf367a",
   "metadata": {
    "tags": []
   },
   "outputs": [],
   "source": [
    "def stemming(content):\n",
    "    stemmed_content = re.sub('[^a-zA-Z]',' ',content)\n",
    "    stemmed_content = stemmed_content.lower().split()\n",
    "    stemmed_content = [port_stem.stem(word) for word in stemmed_content if not word in stopwords.words('english')]\n",
    "    stemmed_content = ' '.join(stemmed_content)\n",
    "    return stemmed_content"
   ]
  },
  {
   "cell_type": "code",
   "execution_count": null,
   "id": "9124e9e8-028b-48e2-99f1-20b7ecdc7b86",
   "metadata": {
    "tags": []
   },
   "outputs": [],
   "source": [
    "news_dataset['content'] = news_dataset['content'].apply(stemming)\n",
    "print(news_dataset['content'])"
   ]
  },
  {
   "cell_type": "markdown",
   "id": "bab3c00f-65e1-44e1-977f-e7b3e698ddf1",
   "metadata": {},
   "source": [
    "**_separating the data and label_**\n"
   ]
  },
  {
   "cell_type": "code",
   "execution_count": null,
   "id": "d416a9d0-9e4c-49e1-bce4-e1a87b80a597",
   "metadata": {
    "tags": []
   },
   "outputs": [],
   "source": [
    "X = news_dataset['content'].values\n",
    "Y = news_dataset['label'].values\n",
    "print(X)\n",
    "print(Y)"
   ]
  },
  {
   "cell_type": "markdown",
   "id": "be7f6ed0-5ee2-451f-a79b-50a695e966b2",
   "metadata": {
    "tags": []
   },
   "source": [
    "**_converting the textual data to numerical data_**\n"
   ]
  },
  {
   "cell_type": "code",
   "execution_count": null,
   "id": "9f56a5de-7f9b-465f-a1d5-e8d91dac9ef7",
   "metadata": {
    "tags": []
   },
   "outputs": [],
   "source": [
    "vectorizer = TfidfVectorizer()\n",
    "vectorizer.fit(X)\n",
    "\n",
    "X = vectorizer.transform(X)"
   ]
  },
  {
   "cell_type": "code",
   "execution_count": null,
   "id": "26affd09-e9b5-48f5-a8f4-56e9b365b106",
   "metadata": {
    "tags": []
   },
   "outputs": [],
   "source": [
    "print(X)"
   ]
  },
  {
   "cell_type": "markdown",
   "id": "8737dacb-9626-48cb-b065-11d879eec99f",
   "metadata": {},
   "source": [
    "**_Splitting the dataset to training & test data_**\n"
   ]
  },
  {
   "cell_type": "code",
   "execution_count": null,
   "id": "b13f6781-d383-4b82-9e3c-26a01778da73",
   "metadata": {
    "tags": []
   },
   "outputs": [],
   "source": [
    "X_train, X_test, Y_train, Y_test = train_test_split(X, Y, test_size = 0.2, stratify=Y, random_state=2)"
   ]
  },
  {
   "cell_type": "markdown",
   "id": "748033e6-7c93-4b9c-add6-9acdaea4bb58",
   "metadata": {},
   "source": [
    "## Training the Model: Logistic Regression\n"
   ]
  },
  {
   "cell_type": "code",
   "execution_count": null,
   "id": "d827c9be-9a7e-40c6-8cb9-e9b6c1945b8b",
   "metadata": {
    "tags": []
   },
   "outputs": [],
   "source": [
    "model = LogisticRegression()"
   ]
  },
  {
   "cell_type": "code",
   "execution_count": null,
   "id": "edcfcc3b-4c86-4d0c-81d4-46aaa5544dcd",
   "metadata": {
    "tags": []
   },
   "outputs": [],
   "source": [
    "model.fit(X_train, Y_train)"
   ]
  },
  {
   "cell_type": "markdown",
   "id": "2749b357-0e85-4c36-85ed-c566b72771a9",
   "metadata": {
    "tags": []
   },
   "source": [
    "### Evaluation\n"
   ]
  },
  {
   "cell_type": "markdown",
   "id": "f04cad5b-c7e0-42cd-9453-bced894bf4c7",
   "metadata": {},
   "source": [
    "### accuracy score\n"
   ]
  },
  {
   "cell_type": "markdown",
   "id": "c44e4813-3e20-48fb-a3a6-b3f5d5121400",
   "metadata": {},
   "source": [
    "**_accuracy score on the training data_**|\n"
   ]
  },
  {
   "cell_type": "code",
   "execution_count": null,
   "id": "834d9b14-c50e-4734-969f-3e1ddc986d3e",
   "metadata": {
    "tags": []
   },
   "outputs": [],
   "source": [
    "X_train_prediction = model.predict(X_train)\n",
    "training_data_accuracy = accuracy_score(X_train_prediction, Y_train)\n",
    "print('Accuracy score of the training data : ', training_data_accuracy)"
   ]
  },
  {
   "cell_type": "markdown",
   "id": "8d1dbb01-eee1-4ff3-9d40-7c7845a3e6e0",
   "metadata": {},
   "source": [
    "accuracy score on the test data\n"
   ]
  },
  {
   "cell_type": "code",
   "execution_count": null,
   "id": "05a993d8-13c5-49dc-884c-66b735d71b35",
   "metadata": {
    "tags": []
   },
   "outputs": [],
   "source": [
    "X_test_prediction = model.predict(X_test)\n",
    "test_data_accuracy = accuracy_score(X_test_prediction, Y_test)\n",
    "print('Accuracy score of the test data : ', test_data_accuracy)"
   ]
  },
  {
   "cell_type": "markdown",
   "id": "9ab589c7-63f3-4667-a115-716267830d39",
   "metadata": {},
   "source": [
    "## Classification Report\n"
   ]
  },
  {
   "cell_type": "code",
   "execution_count": null,
   "id": "b89ed56d-e0bd-4cb2-aefa-09bfb82d5dd7",
   "metadata": {
    "tags": []
   },
   "outputs": [],
   "source": [
    "# Predictions on test data\n",
    "X_test_prediction = model.predict(X_test)\n",
    "\n",
    "# Generate classification report\n",
    "report = classification_report(Y_test, X_test_prediction)\n",
    "print(report)"
   ]
  },
  {
   "cell_type": "markdown",
   "id": "0305a5b4-42ab-4aff-a515-bdce078f9774",
   "metadata": {
    "tags": []
   },
   "source": [
    "## Confusion Matrix\n"
   ]
  },
  {
   "cell_type": "code",
   "execution_count": null,
   "id": "f7fb3061-b1a6-48c7-b677-b8e56d8dc971",
   "metadata": {
    "tags": []
   },
   "outputs": [],
   "source": [
    "# Generate confusion matrix\n",
    "cm = confusion_matrix(Y_test, X_test_prediction)\n",
    "\n",
    "# Display confusion matrix\n",
    "disp = ConfusionMatrixDisplay(confusion_matrix=cm)\n",
    "disp.plot(cmap='Blues')\n",
    "\n",
    "# Show plot\n",
    "plt.title('Confusion Matrix')\n",
    "plt.show()"
   ]
  },
  {
   "cell_type": "markdown",
   "id": "0443ce7a-c470-4ad7-91c7-ae2887d7fc4d",
   "metadata": {},
   "source": [
    "### Visual Meaning:\n",
    "\n",
    "Diagonal elements (TN and TP): Correct predictions.  \n",
    "Off-diagonal elements (FP and FN): Incorrect predictions.\n"
   ]
  },
  {
   "cell_type": "markdown",
   "id": "d089e6e7-f93b-4a85-8e4b-2772f70c5529",
   "metadata": {},
   "source": [
    "## Making a Predictive System\n"
   ]
  },
  {
   "cell_type": "code",
   "execution_count": null,
   "id": "d9ee7c4b-637b-4be1-96f7-5223473521b3",
   "metadata": {
    "tags": []
   },
   "outputs": [],
   "source": [
    "X_new = X_test[3]\n",
    "\n",
    "prediction = model.predict(X_new)\n",
    "print(prediction)\n",
    "\n",
    "if (prediction[0]==0):\n",
    "  print('The news is Real')\n",
    "else:\n",
    "  print('The news is Fake')"
   ]
  },
  {
   "cell_type": "code",
   "execution_count": null,
   "id": "100ef486-82c4-4e11-b16a-337d65c4ba4e",
   "metadata": {
    "tags": []
   },
   "outputs": [],
   "source": [
    "print(Y_test[2])"
   ]
  }
 ],
 "metadata": {
  "kernelspec": {
   "display_name": "Python 3 (ipykernel)",
   "language": "python",
   "name": "python3"
  },
  "language_info": {
   "codemirror_mode": {
    "name": "ipython",
    "version": 3
   },
   "file_extension": ".py",
   "mimetype": "text/x-python",
   "name": "python",
   "nbconvert_exporter": "python",
   "pygments_lexer": "ipython3",
   "version": "3.10.10"
  }
 },
 "nbformat": 4,
 "nbformat_minor": 5
}
